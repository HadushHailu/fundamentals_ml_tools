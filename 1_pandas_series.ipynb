{
 "cells": [
  {
   "cell_type": "code",
   "execution_count": 1,
   "id": "ba685b28-d415-43ab-a9ae-97c32c5ae1bd",
   "metadata": {},
   "outputs": [],
   "source": [
    "import pandas as pd"
   ]
  },
  {
   "cell_type": "code",
   "execution_count": 18,
   "id": "1dfd50a2-fbe1-40da-a2d1-4a0012bbc21b",
   "metadata": {},
   "outputs": [],
   "source": [
    "s = pd.Series(dtype='float')"
   ]
  },
  {
   "cell_type": "code",
   "execution_count": 19,
   "id": "60b5088d-dddc-49b2-9d34-221f993ec843",
   "metadata": {},
   "outputs": [
    {
     "data": {
      "text/plain": [
       "Series([], dtype: float64)"
      ]
     },
     "execution_count": 19,
     "metadata": {},
     "output_type": "execute_result"
    }
   ],
   "source": [
    "s"
   ]
  },
  {
   "cell_type": "markdown",
   "id": "22b3c88d-2ce8-40cb-a74a-682d8744043c",
   "metadata": {},
   "source": [
    "### Create a Series from ndarray"
   ]
  },
  {
   "cell_type": "code",
   "execution_count": 20,
   "id": "f7bbcf5f-274e-4784-ba76-53525192da2d",
   "metadata": {},
   "outputs": [],
   "source": [
    "import numpy as np\n",
    "data  = np.array(['a', 'b', 'c', 'd'])"
   ]
  },
  {
   "cell_type": "code",
   "execution_count": 21,
   "id": "6d72db1f-f1a6-4438-9901-f85fd3e2a100",
   "metadata": {},
   "outputs": [
    {
     "data": {
      "text/plain": [
       "array(['a', 'b', 'c', 'd'], dtype='<U1')"
      ]
     },
     "execution_count": 21,
     "metadata": {},
     "output_type": "execute_result"
    }
   ],
   "source": [
    "data"
   ]
  },
  {
   "cell_type": "code",
   "execution_count": 22,
   "id": "b7b33623-758c-4eaf-b60b-7dbf03aa9dbb",
   "metadata": {},
   "outputs": [],
   "source": [
    "s = pd.Series(data)"
   ]
  },
  {
   "cell_type": "code",
   "execution_count": 60,
   "id": "767f8bf2-5896-49f7-86c8-cb830dadd5c3",
   "metadata": {},
   "outputs": [
    {
     "data": {
      "text/plain": [
       "100    a\n",
       "101    b\n",
       "102    c\n",
       "103    d\n",
       "dtype: string"
      ]
     },
     "execution_count": 60,
     "metadata": {},
     "output_type": "execute_result"
    }
   ],
   "source": [
    "s"
   ]
  },
  {
   "cell_type": "code",
   "execution_count": 61,
   "id": "23ee297f-195b-4bcd-be47-a58c3cc781ff",
   "metadata": {},
   "outputs": [
    {
     "data": {
      "text/plain": [
       "100    a\n",
       "101    b\n",
       "102    c\n",
       "103    d\n",
       "dtype: string"
      ]
     },
     "execution_count": 61,
     "metadata": {},
     "output_type": "execute_result"
    }
   ],
   "source": [
    "data = np.array(['a','b','c','d'])\n",
    "s = pd.Series(data,index=[100,101,102,103], dtype='string')\n",
    "s"
   ]
  },
  {
   "cell_type": "code",
   "execution_count": 64,
   "id": "a444df07-81e9-4d10-a4c9-0f3d53046650",
   "metadata": {},
   "outputs": [
    {
     "data": {
      "text/plain": [
       "str"
      ]
     },
     "execution_count": 64,
     "metadata": {},
     "output_type": "execute_result"
    }
   ],
   "source": [
    "type(s[100])"
   ]
  },
  {
   "cell_type": "markdown",
   "id": "106e73fb-4a7f-4b20-8ec7-e268113025e6",
   "metadata": {},
   "source": [
    "### Create a Series from dict"
   ]
  },
  {
   "cell_type": "code",
   "execution_count": 26,
   "id": "9023b4e5-1296-4310-90bf-1fdce7b5ec74",
   "metadata": {},
   "outputs": [
    {
     "data": {
      "text/plain": [
       "a        0\n",
       "b        1\n",
       "c        2\n",
       "2    hello\n",
       "dtype: object"
      ]
     },
     "execution_count": 26,
     "metadata": {},
     "output_type": "execute_result"
    }
   ],
   "source": [
    "data = {'a' : 0., 'b' : 1., 'c' : 2., 2: \"hello\"}\n",
    "s = pd.Series(data)\n",
    "s"
   ]
  },
  {
   "cell_type": "code",
   "execution_count": 29,
   "id": "5b72141e-1dd4-4051-ad42-7639592e5dd5",
   "metadata": {},
   "outputs": [
    {
     "data": {
      "text/plain": [
       "b    1.0\n",
       "c    2.0\n",
       "d    NaN\n",
       "a    0.0\n",
       "dtype: float64"
      ]
     },
     "execution_count": 29,
     "metadata": {},
     "output_type": "execute_result"
    }
   ],
   "source": [
    "data = {'a' : 0., 'b' : 1., 'c' : 2.}\n",
    "s = pd.Series(data,index=['b','c','d','a'])\n",
    "s"
   ]
  },
  {
   "cell_type": "markdown",
   "id": "6e24a2fe-4434-4dc2-8cd8-e0a7cb11f87f",
   "metadata": {},
   "source": [
    "### Create a Series from Scalar"
   ]
  },
  {
   "cell_type": "code",
   "execution_count": 31,
   "id": "ac1f2807-b74e-4d4a-b976-7b7ee38a0593",
   "metadata": {},
   "outputs": [
    {
     "data": {
      "text/plain": [
       "0    5\n",
       "1    5\n",
       "2    5\n",
       "3    5\n",
       "dtype: int64"
      ]
     },
     "execution_count": 31,
     "metadata": {},
     "output_type": "execute_result"
    }
   ],
   "source": [
    "s = pd.Series(5, index=[0, 1, 2, 3])\n",
    "s"
   ]
  },
  {
   "cell_type": "markdown",
   "id": "c2b110aa-564a-453e-aace-81ada7d9ccdc",
   "metadata": {},
   "source": [
    "### Accessing Data from Series with Position"
   ]
  },
  {
   "cell_type": "code",
   "execution_count": 39,
   "id": "7a2bc9f8-c236-4e13-b39a-0bc6299dd39e",
   "metadata": {},
   "outputs": [
    {
     "data": {
      "text/plain": [
       "a    1\n",
       "b    2\n",
       "c    3\n",
       "d    4\n",
       "e    5\n",
       "dtype: int64"
      ]
     },
     "execution_count": 39,
     "metadata": {},
     "output_type": "execute_result"
    }
   ],
   "source": [
    "s = pd.Series([1,2,3,4,5], index=['a','b','c','d','e'])\n",
    "s"
   ]
  },
  {
   "cell_type": "code",
   "execution_count": 48,
   "id": "0c08e487-5e08-4a18-a053-0296a38831b0",
   "metadata": {},
   "outputs": [
    {
     "data": {
      "text/plain": [
       "b    2\n",
       "c    3\n",
       "dtype: int64"
      ]
     },
     "execution_count": 48,
     "metadata": {},
     "output_type": "execute_result"
    }
   ],
   "source": [
    "# Retrieve using sliceing\n",
    "s[1:3]"
   ]
  },
  {
   "cell_type": "code",
   "execution_count": 54,
   "id": "4b6834f4-9b2b-41b0-8f7f-d48f1d375402",
   "metadata": {},
   "outputs": [
    {
     "data": {
      "text/plain": [
       "pandas.core.series.Series"
      ]
     },
     "execution_count": 54,
     "metadata": {},
     "output_type": "execute_result"
    }
   ],
   "source": [
    "# Retrieve using index\n",
    "type(s[-2:])"
   ]
  },
  {
   "cell_type": "code",
   "execution_count": 53,
   "id": "dc4935b6-bdc1-4611-ad82-20c5efa2ad1d",
   "metadata": {},
   "outputs": [
    {
     "data": {
      "text/plain": [
       "numpy.int64"
      ]
     },
     "execution_count": 53,
     "metadata": {},
     "output_type": "execute_result"
    }
   ],
   "source": [
    "# Retreive element using index label value\n",
    "type(s['a'])"
   ]
  },
  {
   "cell_type": "code",
   "execution_count": 52,
   "id": "3d39a833-ef1d-4614-a4b1-75701260c431",
   "metadata": {},
   "outputs": [
    {
     "data": {
      "text/plain": [
       "pandas.core.series.Series"
      ]
     },
     "execution_count": 52,
     "metadata": {},
     "output_type": "execute_result"
    }
   ],
   "source": [
    "# Retrieve multiple elements using a list of index label values.\n",
    "type(s[['a', 'b']])"
   ]
  },
  {
   "cell_type": "code",
   "execution_count": null,
   "id": "c7e89892-ab1b-4524-921a-7d1da28053cf",
   "metadata": {},
   "outputs": [],
   "source": []
  }
 ],
 "metadata": {
  "kernelspec": {
   "display_name": "Python 3 (ipykernel)",
   "language": "python",
   "name": "python3"
  },
  "language_info": {
   "codemirror_mode": {
    "name": "ipython",
    "version": 3
   },
   "file_extension": ".py",
   "mimetype": "text/x-python",
   "name": "python",
   "nbconvert_exporter": "python",
   "pygments_lexer": "ipython3",
   "version": "3.8.10"
  }
 },
 "nbformat": 4,
 "nbformat_minor": 5
}
